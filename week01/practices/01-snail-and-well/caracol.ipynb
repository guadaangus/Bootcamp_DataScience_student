{
 "cells": [
  {
   "cell_type": "markdown",
   "metadata": {},
   "source": [
    "# 01 - Caracol y el pozo\n",
    "\n",
    "Un caracol cae en el fondo de un pozo de 125 cm. Cada día el caracol sube 30 cm. pero por la noche, mientras duerme, resbala 20 cm debido a que las paredes son húmedas. ¿Cuantos días tarda en escapar del pozo?\n",
    "\n",
    "TIP: https://www.vix.com/es/btg/curiosidades/59215/acertijos-matematicos-el-caracol-en-el-pozo-facil\n",
    "\n",
    "TIP: http://puzzles.nigelcoldwell.co.uk/sixtytwo.htm"
   ]
  },
  {
   "cell_type": "markdown",
   "metadata": {},
   "source": [
    "## Solución"
   ]
  },
  {
   "cell_type": "code",
   "execution_count": 1,
   "metadata": {},
   "outputs": [
    {
     "name": "stdout",
     "output_type": "stream",
     "text": [
      "12.5 días\n"
     ]
    }
   ],
   "source": [
    "# Asigna los datos del problema a variables con nombres representativos\n",
    "# altura del pozo, avance diario, retroceso nocturno, distancia acumulada\n",
    "\n",
    "\n",
    "# Asigna 0 a la variable que representa la solución\n",
    "Pozo= 125\n",
    "Sube=30\n",
    "Resbala=20\n",
    "\n",
    "# Escribe el código que soluciona el problema\n",
    "\n",
    "X = (Pozo/(Sube-Resbala)) \n",
    "# Imprime el resultado con print('Dias =', dias)\n",
    "\n",
    "print (X, \"días\")\n"
   ]
  },
  {
   "cell_type": "markdown",
   "metadata": {},
   "source": [
    "## Objetivos\n",
    "\n",
    "1. Tratamiento de variables\n",
    "2. Uso de bucle **while**\n",
    "3. Uso de condicionales **if-else**\n",
    "4. Imprimir por consola"
   ]
  },
  {
   "cell_type": "markdown",
   "metadata": {},
   "source": [
    "## Bonus\n",
    "La distancia recorrida por el caracol viene ahora definida por una lista. \n",
    "```\n",
    "avance_cm = [30, 21, 33, 77, 44, 45, 23, 45, 12, 34, 55]\n",
    "```\n",
    "¿Cuánto tarda en subir el pozo?\n",
    "¿Cuál es su máximo de desplazamiento en un día? ¿Y su mínimo?\n",
    "¿Cuál es su media de velocidad durante el día?\n",
    "¿Cuál es la desviación típica de su desplazamiento durante el día?"
   ]
  },
  {
   "cell_type": "code",
   "execution_count": 2,
   "metadata": {},
   "outputs": [
    {
     "name": "stdout",
     "output_type": "stream",
     "text": [
      "38.09090909090909 cm recorre de media por día\n",
      "3.2816229116945106 días tardará en subir el pozo\n",
      "77\n",
      "12\n",
      "38.09090909090909 cm recorre de media por día\n",
      "17.996969441850734 desviación típica\n"
     ]
    }
   ],
   "source": [
    "# Asigna los datos del problema a variables con nombres representativos\n",
    "# altura del pozo, avance diario, retroceso nocturno, distancia acumulada\n",
    "\n",
    "avance_cm = [30, 21, 33, 77, 44, 45, 23, 45, 12, 34, 55]\n",
    "indice= 0\n",
    "# Asigna 0 a la variable que representa la solución\n",
    "\n",
    "# Escribe el código que soluciona el problema\n",
    "\n",
    "\n",
    "\n",
    "Mean= sum(avance_cm)/len(avance_cm)\n",
    "print(Mean, \"cm recorre de media por día\")\n",
    "\n",
    "tiempo_estimado= 125/Mean\n",
    "\n",
    "\n",
    "# Imprime el resultado con print('Dias =', dias)\n",
    "print(tiempo_estimado, \"días tardará en subir el pozo\")\n",
    "\n",
    "# ¿Cuál es su máximo de desplazamiento en un día? ¿Y su mínimo?\n",
    "valor_max=print(max(avance_cm))\n",
    "valor_min=print(min(avance_cm))\n",
    "\n",
    "def sum (avance_cm):\n",
    "    suma = 0\n",
    "    for i in avance_cm:\n",
    "        suma += i\n",
    "    return suma\n",
    "\n",
    "# ¿Cuál es su media de avance?\n",
    "Mean= sum(avance_cm)/len(avance_cm)\n",
    "print(Mean, \"cm recorre de media por día\")\n",
    "\n",
    "# ¿Cuál es la desviación típica de su desplazamiento durante el día?\n",
    "\n",
    "import statistics\n",
    "desv_tipica=statistics.stdev(avance_cm)\n",
    "print(desv_tipica, \"desviación típica\")"
   ]
  },
  {
   "cell_type": "code",
   "execution_count": null,
   "metadata": {},
   "outputs": [],
   "source": []
  }
 ],
 "metadata": {
  "interpreter": {
   "hash": "aee8b7b246df8f9039afb4144a1f6fd8d2ca17a180786b69acc140d282b71a49"
  },
  "kernelspec": {
   "display_name": "Python 3.9.7 64-bit",
   "name": "python3"
  },
  "language_info": {
   "codemirror_mode": {
    "name": "ipython",
    "version": 3
   },
   "file_extension": ".py",
   "mimetype": "text/x-python",
   "name": "python",
   "nbconvert_exporter": "python",
   "pygments_lexer": "ipython3",
   "version": "3.9.7"
  }
 },
 "nbformat": 4,
 "nbformat_minor": 4
}
